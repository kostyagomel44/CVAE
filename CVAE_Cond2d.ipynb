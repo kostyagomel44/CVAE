{
  "cells": [
    {
      "cell_type": "code",
      "execution_count": null,
      "metadata": {
        "id": "P43f5YDRKn5-"
      },
      "outputs": [],
      "source": [
        "# prerequisites\n",
        "\n",
        "import numpy as np\n",
        "from tensorflow import keras\n",
        "import matplotlib.pyplot as plt\n",
        "\n",
        "from tensorflow.keras.layers import *\n",
        "from tensorflow.keras import Model\n",
        "\n",
        "from tensorflow.keras import backend as K\n",
        "from tensorflow.keras.losses import mse\n",
        "from tensorflow.keras.utils import to_categorical\n",
        "\n",
        "import os"
      ]
    },
    {
      "cell_type": "code",
      "source": [
        "# data load\n",
        "\n",
        "(x_train, y_train), (x_test, y_test) = keras.datasets.mnist.load_data()\n",
        "x_train = x_train.astype('float32') / 255.\n",
        "x_test  = x_test .astype('float32') / 255.\n",
        "x_train = np.reshape(x_train, (len(x_train), 28, 28, 1))\n",
        "x_test  = np.reshape(x_test,  (len(x_test),  28, 28, 1))"
      ],
      "metadata": {
        "id": "JjtamSki1aPz"
      },
      "execution_count": null,
      "outputs": []
    },
    {
      "cell_type": "code",
      "execution_count": null,
      "metadata": {
        "id": "KeUjgOIjKtLz"
      },
      "outputs": [],
      "source": [
        "# one-hot encoding\n",
        "\n",
        "y_train_cat = to_categorical(y_train).astype(np.float32)\n",
        "y_test_cat  = to_categorical(y_test).astype(np.float32)\n",
        "num_classes = y_test_cat.shape[1]"
      ]
    },
    {
      "cell_type": "code",
      "execution_count": null,
      "metadata": {
        "id": "1O2cIRIyOX3a"
      },
      "outputs": [],
      "source": [
        "# latent space dimensionality\n",
        "\n",
        "n_latent=8"
      ]
    },
    {
      "cell_type": "code",
      "source": [
        "# encoder\n",
        "\n",
        "input_img = Input(shape=(28, 28, 1))\n",
        "input_lbl = Input(shape=(num_classes,), dtype='float32')\n",
        "\n",
        "x = Flatten()(input_img)\n",
        "x_encoded = Dense(64, activation='relu')(x)\n",
        "mu = Dense(2, activation = 'linear', name = 'MU')(x_encoded)\n",
        "log_var = Dense(2, activation='linear', name = 'Log_var')(x_encoded)"
      ],
      "metadata": {
        "id": "2emoUkjK2meJ"
      },
      "execution_count": null,
      "outputs": []
    },
    {
      "cell_type": "code",
      "source": [
        "# sampling/reparametrization function \n",
        "\n",
        "def sampling(args):\n",
        "    z_mean, z_log_var = args\n",
        "    batch = K.shape(z_mean)[0]\n",
        "    dim = K.int_shape(z_mean)[1]\n",
        "    epsilon = K.random_normal(shape=(batch, dim))\n",
        "    return z_mean + K.exp(0.5 * z_log_var) * epsilon\n",
        "\n",
        "z = Lambda(sampling, output_shape=(n_latent,), name = 'Z')([mu, log_var])\n",
        "z_cond = Concatenate(axis=-1, name='Concat')([z, input_lbl])"
      ],
      "metadata": {
        "id": "qu8Lni4E23G2"
      },
      "execution_count": null,
      "outputs": []
    },
    {
      "cell_type": "code",
      "execution_count": null,
      "metadata": {
        "id": "MJn_xLcOM89I"
      },
      "outputs": [],
      "source": [
        "# decoder\n",
        "\n",
        "z_in = Input(shape=(2,), name ='z-in')\n",
        "lbl_in = Input(shape=(num_classes,), name = 'Condition')\n",
        "dec_input = Concatenate(name = 'Decoder_input')([z_in,lbl_in])\n",
        "dec = Dense(784, activation='sigmoid')(dec_input)\n",
        "outp = Reshape((28,28,1))(dec)"
      ]
    },
    {
      "cell_type": "code",
      "execution_count": null,
      "metadata": {
        "id": "IvYhEK18M84E"
      },
      "outputs": [],
      "source": [
        "# individual variables for encoder and decoder\n",
        "\n",
        "E = Model([input_img, input_lbl], [mu, log_var, z, input_lbl])\n",
        "D = Model([z_in, lbl_in], outp)\n",
        "\n",
        "out = D(E([input_img, input_lbl])[2:])"
      ]
    },
    {
      "cell_type": "code",
      "execution_count": null,
      "metadata": {
        "id": "-vquDaoJM86q"
      },
      "outputs": [],
      "source": [
        "# loss\n",
        "\n",
        "reconstruction_loss = keras.losses.binary_crossentropy(keras.layers.Flatten()(input_img), \n",
        "                                                       keras.layers.Flatten()(out))\n",
        "kl_loss = 0.5 * K.sum(K.square(mu) + K.exp(log_var) - log_var - 1, axis = -1)\n",
        "cvae_loss = reconstruction_loss + kl_loss"
      ]
    },
    {
      "cell_type": "code",
      "execution_count": null,
      "metadata": {
        "id": "7i77dAknSAqa"
      },
      "outputs": [],
      "source": [
        "# build model\n",
        "\n",
        "cvae = Model([input_img, input_lbl], out)\n",
        "cvae.add_loss(cvae_loss)\n",
        "cvae.compile(optimizer='adam')"
      ]
    },
    {
      "cell_type": "code",
      "execution_count": null,
      "metadata": {
        "id": "BHMtBku8SAsy",
        "colab": {
          "base_uri": "https://localhost:8080/"
        },
        "outputId": "0c17e084-2fe9-4cec-dff0-c68ea9563755"
      },
      "outputs": [
        {
          "output_type": "stream",
          "name": "stdout",
          "text": [
            "Epoch 1/10\n",
            "1200/1200 [==============================] - 6s 4ms/step - loss: 0.4508 - val_loss: 0.3192\n",
            "Epoch 2/10\n",
            "1200/1200 [==============================] - 6s 5ms/step - loss: 0.2797 - val_loss: 0.2533\n",
            "Epoch 3/10\n",
            "1200/1200 [==============================] - 6s 5ms/step - loss: 0.2433 - val_loss: 0.2339\n",
            "Epoch 4/10\n",
            "1200/1200 [==============================] - 5s 4ms/step - loss: 0.2311 - val_loss: 0.2262\n",
            "Epoch 5/10\n",
            "1200/1200 [==============================] - 5s 4ms/step - loss: 0.2259 - val_loss: 0.2227\n",
            "Epoch 6/10\n",
            "1200/1200 [==============================] - 5s 4ms/step - loss: 0.2234 - val_loss: 0.2210\n",
            "Epoch 7/10\n",
            "1200/1200 [==============================] - 5s 4ms/step - loss: 0.2221 - val_loss: 0.2200\n",
            "Epoch 8/10\n",
            "1200/1200 [==============================] - 5s 4ms/step - loss: 0.2214 - val_loss: 0.2195\n",
            "Epoch 9/10\n",
            "1200/1200 [==============================] - 5s 4ms/step - loss: 0.2211 - val_loss: 0.2193\n",
            "Epoch 10/10\n",
            "1200/1200 [==============================] - 5s 4ms/step - loss: 0.2209 - val_loss: 0.2191\n"
          ]
        },
        {
          "output_type": "execute_result",
          "data": {
            "text/plain": [
              "<keras.callbacks.History at 0x7f19a206ac50>"
            ]
          },
          "metadata": {},
          "execution_count": 68
        }
      ],
      "source": [
        "# train\n",
        "\n",
        "cvae.fit([x_train, y_train_cat],\n",
        "       shuffle=True,\n",
        "       epochs=10,\n",
        "       batch_size=50,\n",
        "       validation_data=([x_test, y_test_cat], None), verbose=1)"
      ]
    },
    {
      "cell_type": "code",
      "execution_count": null,
      "metadata": {
        "colab": {
          "base_uri": "https://localhost:8080/",
          "height": 283
        },
        "id": "mDxtxcV5SAyf",
        "outputId": "a61efed4-af6f-46eb-c5ff-2fa7f3c831a7"
      },
      "outputs": [
        {
          "output_type": "execute_result",
          "data": {
            "text/plain": [
              "<matplotlib.image.AxesImage at 0x7f19a0c2da90>"
            ]
          },
          "metadata": {},
          "execution_count": 108
        },
        {
          "output_type": "display_data",
          "data": {
            "text/plain": [
              "<Figure size 432x288 with 1 Axes>"
            ],
            "image/png": "[encoded data removed]"
          },
          "metadata": {
            "needs_background": "light"
          }
        }
      ],
      "source": [
        "# example of digit\n",
        "\n",
        "plt.imshow(x_test[55].reshape((28,28)))"
      ]
    },
    {
      "cell_type": "code",
      "execution_count": null,
      "metadata": {
        "colab": {
          "base_uri": "https://localhost:8080/"
        },
        "id": "DbHmMx-bKtS4",
        "outputId": "7d43e64a-4b98-4100-d408-0a72a6502640"
      },
      "outputs": [
        {
          "output_type": "execute_result",
          "data": {
            "text/plain": [
              "array([1., 0., 0., 0., 0., 0., 0., 0., 0., 0.], dtype=float32)"
            ]
          },
          "metadata": {},
          "execution_count": 109
        }
      ],
      "source": [
        "# digit's label\n",
        "\n",
        "y_test_cat[55]"
      ]
    },
    {
      "cell_type": "code",
      "source": [
        "# generate digit 0 in the style of digit 2\n",
        "\n",
        "generated = cvae.predict([x_test[55].reshape((-1, 28, 28, 1)), y_test_cat[77].reshape((-1, 10))])\n",
        "plt.imshow(generated.reshape((28,28)))"
      ],
      "metadata": {
        "colab": {
          "base_uri": "https://localhost:8080/",
          "height": 283
        },
        "id": "Bkby3owq5vNP",
        "outputId": "f088b0ac-5515-4abe-de94-7480508223e3"
      },
      "execution_count": null,
      "outputs": [
        {
          "output_type": "execute_result",
          "data": {
            "text/plain": [
              "<matplotlib.image.AxesImage at 0x7f19a0b27a10>"
            ]
          },
          "metadata": {},
          "execution_count": 113
        },
        {
          "output_type": "display_data",
          "data": {
            "text/plain": [
              "<Figure size 432x288 with 1 Axes>"
            ],
            "image/png": "[encoded data removed]"
          },
          "metadata": {
            "needs_background": "light"
          }
        }
      ]
    }
  ],
  "metadata": {
    "colab": {
      "collapsed_sections": [],
      "name": "CVAE_Cond2d.ipynb",
      "provenance": []
    },
    "kernelspec": {
      "display_name": "Python 3",
      "name": "python3"
    },
    "language_info": {
      "name": "python"
    },
    "accelerator": "GPU"
  },
  "nbformat": 4,
  "nbformat_minor": 0
}